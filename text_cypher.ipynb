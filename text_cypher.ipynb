{
 "cells": [
  {
   "cell_type": "markdown",
   "metadata": {},
   "source": [
    "# Código para cifrar/descrifrar mensajes de texto"
   ]
  },
  {
   "cell_type": "markdown",
   "metadata": {},
   "source": [
    "## Primera parte: Generación de llave\n",
    "\n",
    "### Para la lista de caracteres ASCII se genera una llave para cada caracter, una vez generada la llave se puede guardar y compartir entre quienes van a intercambiar mensajes.\n"
   ]
  },
  {
   "cell_type": "code",
   "execution_count": 53,
   "metadata": {
    "scrolled": false
   },
   "outputs": [
    {
     "name": "stdout",
     "output_type": "stream",
     "text": [
      "(992, 2)\n"
     ]
    },
    {
     "data": {
      "text/html": [
       "<div>\n",
       "<style scoped>\n",
       "    .dataframe tbody tr th:only-of-type {\n",
       "        vertical-align: middle;\n",
       "    }\n",
       "\n",
       "    .dataframe tbody tr th {\n",
       "        vertical-align: top;\n",
       "    }\n",
       "\n",
       "    .dataframe thead th {\n",
       "        text-align: right;\n",
       "    }\n",
       "</style>\n",
       "<table border=\"1\" class=\"dataframe\">\n",
       "  <thead>\n",
       "    <tr style=\"text-align: right;\">\n",
       "      <th></th>\n",
       "      <th>Character</th>\n",
       "      <th>Byte</th>\n",
       "    </tr>\n",
       "  </thead>\n",
       "  <tbody>\n",
       "    <tr>\n",
       "      <th>0</th>\n",
       "      <td></td>\n",
       "      <td>pLKO</td>\n",
       "    </tr>\n",
       "    <tr>\n",
       "      <th>1</th>\n",
       "      <td>!</td>\n",
       "      <td>eOUZ</td>\n",
       "    </tr>\n",
       "    <tr>\n",
       "      <th>2</th>\n",
       "      <td>\"</td>\n",
       "      <td>m2VH</td>\n",
       "    </tr>\n",
       "    <tr>\n",
       "      <th>3</th>\n",
       "      <td>#</td>\n",
       "      <td>puyc</td>\n",
       "    </tr>\n",
       "    <tr>\n",
       "      <th>4</th>\n",
       "      <td>$</td>\n",
       "      <td>nebs</td>\n",
       "    </tr>\n",
       "  </tbody>\n",
       "</table>\n",
       "</div>"
      ],
      "text/plain": [
       "  Character  Byte\n",
       "0            pLKO\n",
       "1         !  eOUZ\n",
       "2         \"  m2VH\n",
       "3         #  puyc\n",
       "4         $  nebs"
      ]
     },
     "execution_count": 53,
     "metadata": {},
     "output_type": "execute_result"
    }
   ],
   "source": [
    "import random\n",
    "import string\n",
    "import pandas as pd\n",
    "import numpy as np\n",
    "\n",
    "#Lectura de tabla semilla para generar llave propia\n",
    "\n",
    "key_path = '' #ingresar ruta donde se encuentra el archivo de llave semilla\n",
    "key_filename = 'llave_semilla.csv' #nombre de archivo de llave inicial \n",
    "\n",
    "temp_key = pd.read_csv(key_path + key_filename, sep=',', names=['Caracter', 'Byte'], header = None, skiprows = [0]) # Llave semilla\n",
    "\n",
    "temp_key.drop(['Byte'], axis=1, inplace=True)\n",
    "\n",
    "llave = [] # lista vacía para crear llave propia\n",
    "\n",
    "# Creación de llave propia\n",
    "\n",
    "for j in range(0,992):\n",
    "    randomcharlst = []\n",
    "    for i in range(0,4):\n",
    "        randomcharlst.append(random.choice(string.ascii_letters + string.digits))\n",
    "    randomStr = ''.join(randomcharlst)\n",
    "    llave.append(randomStr)\n",
    "temp_key['Byte'] = pd.DataFrame(llave)\n",
    "\n",
    "# Llave propia\n",
    "\n",
    "cypher_key = pd.DataFrame(data = temp_key)\n",
    "\n",
    "cypher_key['Caracter'] = cypher_key['Caracter'].astype(str)\n",
    "cypher_key['Byte'] = cypher_key['Byte'].astype(str)\n",
    "\n",
    "cypher_key.to_csv(key_path + 'llave_de_cifrado.csv', sep = ',')\n",
    "\n",
    "print(cypher_key.shape)\n",
    "cypher_key.head()"
   ]
  },
  {
   "cell_type": "markdown",
   "metadata": {},
   "source": [
    "# Segunda parte: cifrado de mensaje"
   ]
  },
  {
   "cell_type": "code",
   "execution_count": 54,
   "metadata": {},
   "outputs": [],
   "source": [
    "# Se divide el mensaje letra por letra para el cifrado\n",
    "\n",
    "def dividir_mensaje(mensaje):\n",
    "    return [letra for letra in mensaje]\n",
    "\n",
    "#mensaje = 'Escribir mensaje que se quiere cifrar'\n",
    "\n",
    "mensaje = ' ¡Mensaje de prueba para probar el código!'\n",
    "\n",
    "mensaje_split = dividir_mensaje(mensaje) # Lista de letras del mensaje"
   ]
  },
  {
   "cell_type": "code",
   "execution_count": 55,
   "metadata": {},
   "outputs": [
    {
     "name": "stdout",
     "output_type": "stream",
     "text": [
      "Your coded message: pLKOX3XokKw6C76tI02DDzQetPDFTYPbC76tpLKOnFggC76tpLKO6pSF616pKAanC76t9hUTtPDFpLKO6pSFtPDF616ptPDFpLKO6pSF616pqiFP9hUTtPDF616ppLKOC76t4sfMpLKOciCna41NnFggegDDE0x6qiFPeOUZ \n",
      "\n"
     ]
    }
   ],
   "source": [
    "# Cifrado del mensaje letra por letra\n",
    "\n",
    "# Leer llave de ruta donde se se encuentra almacenada, en el ejmplo 'key_path'\n",
    "\n",
    "llave = pd.read_csv(key_path + 'llave_de_cifrado.csv', sep = ',', names=['Caracter', 'Byte'],\n",
    "                    header = None, skiprows = [0]) # Leer llave generada\n",
    "\n",
    "def cifrar_mensaje():\n",
    "    mensaje_cifrado = \"\"\n",
    "\n",
    "    for i in range(len(mensaje_split)):\n",
    "        j = mensaje_split[i]\n",
    "        try:\n",
    "            letra_cifrada = llave.loc[llave['Caracter'] == j, 'Byte'].iloc[0]\n",
    "\n",
    "        except:\n",
    "            print('caracter no reconocido')\n",
    "            letra_cifrada = '@@@'\n",
    "\n",
    "        mensaje_cifrado = mensaje_cifrado + letra_cifrada\n",
    "    return mensaje_cifrado\n",
    "\n",
    "mensaje_cifrado = cifrar_mensaje()\n",
    "\n",
    "print('Mensaje cifrado:\\n\\n', cifrar_mensaje(), '\\n')"
   ]
  },
  {
   "cell_type": "markdown",
   "metadata": {},
   "source": [
    "# Tercera parte: descifrado de mensaje"
   ]
  },
  {
   "cell_type": "code",
   "execution_count": 56,
   "metadata": {},
   "outputs": [
    {
     "name": "stdout",
     "output_type": "stream",
     "text": [
      "pLKOX3XokKw6C76tI02DDzQetPDFTYPbC76tpLKOnFggC76tpLKO6pSF616pKAanC76t9hUTtPDFpLKO6pSFtPDF616ptPDFpLKO6pSF616pqiFP9hUTtPDF616ppLKOC76t4sfMpLKOciCna41NnFggegDDE0x6qiFPeOUZ\n",
      "\n",
      "Mensaje descifrado:  ¡Mensaje de prueba para probar el código!\n"
     ]
    }
   ],
   "source": [
    "# Descifrado del mensaje letra por letra\n",
    "\n",
    "# Leer llave de ruta donde se se encuentra almacenada, en el ejemplo 'key_path'\n",
    "\n",
    "llave = pd.read_csv(key_path + 'llave_de_cifrado.csv', sep = ',', names=['Caracter', 'Byte'],\n",
    "                    header = None, skiprows = [0]) # Leer llave generada\n",
    "\n",
    "def descifrar_mensaje(mensaje):\n",
    "    nueva_palabra = ''\n",
    "    mensaje_descifrado = []\n",
    "\n",
    "    for i in range(0, len(mensaje), 4):\n",
    "        j = mensaje[i:i + 4]\n",
    "        index_nb = llave[llave.eq(j).any(1)]\n",
    "\n",
    "        df2 = index_nb['Caracter'].tolist()\n",
    "\n",
    "        s = [str(x) for x in df2]\n",
    "        mensaje_descifrado = mensaje_descifrado + s\n",
    "\n",
    "    nueva_palabra = ''.join(mensaje_descifrado)\n",
    "\n",
    "    return nueva_palabra\n",
    "\n",
    "#mensaje_cifrado = str('Copiar mensaje cifrado recibido')\n",
    "mensaje_cifrado_recibido = str(mensaje_cifrado)\n",
    "\n",
    "print(mensaje_cifrado_recibido)\n",
    "\n",
    "print('\\nMensaje descifrado:', descifrar_mensaje(mensaje_cifrado_recibido))"
   ]
  },
  {
   "cell_type": "markdown",
   "metadata": {},
   "source": [
    "### Trabajo futuro:\n",
    "### * Crear interfaz gráfica\n",
    "### * Desarrollar app móvil\n",
    "### * Integración de app móvil con apps de mensajería (p. ej.  Whatsapp)"
   ]
  },
  {
   "cell_type": "code",
   "execution_count": null,
   "metadata": {},
   "outputs": [],
   "source": []
  }
 ],
 "metadata": {
  "kernelspec": {
   "display_name": "Python 3",
   "language": "python",
   "name": "python3"
  },
  "language_info": {
   "codemirror_mode": {
    "name": "ipython",
    "version": 3
   },
   "file_extension": ".py",
   "mimetype": "text/x-python",
   "name": "python",
   "nbconvert_exporter": "python",
   "pygments_lexer": "ipython3",
   "version": "3.8.10"
  }
 },
 "nbformat": 4,
 "nbformat_minor": 2
}
